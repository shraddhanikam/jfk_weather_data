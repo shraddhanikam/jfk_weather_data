{
 "cells": [
  {
   "cell_type": "code",
   "execution_count": 1,
   "metadata": {},
   "outputs": [],
   "source": [
    "import pandas as pd\n",
    "import numpy as np"
   ]
  },
  {
   "cell_type": "code",
   "execution_count": 2,
   "metadata": {},
   "outputs": [],
   "source": [
    "data=pd.read_csv(\"weather_cleaned_final1 - Copy.csv\")"
   ]
  },
  {
   "cell_type": "code",
   "execution_count": 3,
   "metadata": {},
   "outputs": [],
   "source": [
    "data=data.set_index(pd.DatetimeIndex(data['DATE']))\n",
    "data.drop(['DATE'],axis=1,inplace=True)"
   ]
  },
  {
   "cell_type": "code",
   "execution_count": 4,
   "metadata": {},
   "outputs": [],
   "source": [
    "x=data.iloc[:,:11]\n",
    "y=data.iloc[:,11:12]"
   ]
  },
  {
   "cell_type": "code",
   "execution_count": 5,
   "metadata": {},
   "outputs": [],
   "source": [
    "y_new=data['HOURLYDRYBULBTEMPC']"
   ]
  },
  {
   "cell_type": "code",
   "execution_count": 6,
   "metadata": {},
   "outputs": [
    {
     "name": "stdout",
     "output_type": "stream",
     "text": [
      "<class 'list'>\n"
     ]
    }
   ],
   "source": [
    "y_test=[]\n",
    "for i in y:\n",
    "    y_test.append(i)\n",
    "print(type(y_test))"
   ]
  },
  {
   "cell_type": "code",
   "execution_count": 7,
   "metadata": {},
   "outputs": [],
   "source": [
    "from sklearn.model_selection import train_test_split\n",
    "X,x_test,y_train,y_test=train_test_split(x,y,test_size=0.20,random_state=42)"
   ]
  },
  {
   "cell_type": "code",
   "execution_count": null,
   "metadata": {},
   "outputs": [],
   "source": []
  },
  {
   "cell_type": "code",
   "execution_count": 8,
   "metadata": {},
   "outputs": [
    {
     "name": "stderr",
     "output_type": "stream",
     "text": [
      "Using TensorFlow backend.\n"
     ]
    }
   ],
   "source": [
    "# univariate lstm example\n",
    "from keras.models import Sequential\n",
    "from keras.layers import LSTM\n",
    "from keras.layers import Dense"
   ]
  },
  {
   "cell_type": "code",
   "execution_count": 9,
   "metadata": {},
   "outputs": [
    {
     "name": "stdout",
     "output_type": "stream",
     "text": [
      "Epoch 1/50\n",
      "57911/57911 [==============================] - 11s 198us/step - loss: 4.0650 - accuracy: 0.0586\n",
      "Epoch 2/50\n",
      "57911/57911 [==============================] - 11s 194us/step - loss: 0.8169 - accuracy: 0.0796\n",
      "Epoch 3/50\n",
      "57911/57911 [==============================] - 9s 163us/step - loss: 0.1726 - accuracy: 0.0937\n",
      "Epoch 4/50\n",
      "57911/57911 [==============================] - 10s 166us/step - loss: 0.1291 - accuracy: 0.1001\n",
      "Epoch 5/50\n",
      "57911/57911 [==============================] - 14s 237us/step - loss: 0.1077 - accuracy: 0.1025\n",
      "Epoch 6/50\n",
      "57911/57911 [==============================] - 19s 333us/step - loss: 0.0883 - accuracy: 0.1054\n",
      "Epoch 7/50\n",
      "57911/57911 [==============================] - 18s 313us/step - loss: 0.0817 - accuracy: 0.1069\n",
      "Epoch 8/50\n",
      "57911/57911 [==============================] - 18s 312us/step - loss: 0.0667 - accuracy: 0.1097\n",
      "Epoch 9/50\n",
      "57911/57911 [==============================] - 18s 309us/step - loss: 0.0588 - accuracy: 0.1102\n",
      "Epoch 10/50\n",
      "57911/57911 [==============================] - 18s 309us/step - loss: 0.0600 - accuracy: 0.1109\n",
      "Epoch 11/50\n",
      "57911/57911 [==============================] - 18s 306us/step - loss: 0.0492 - accuracy: 0.1118s - loss: 0.0490 - accuracy: 0.11\n",
      "Epoch 12/50\n",
      "57911/57911 [==============================] - 19s 330us/step - loss: 0.0421 - accuracy: 0.1130\n",
      "Epoch 13/50\n",
      "57911/57911 [==============================] - 18s 318us/step - loss: 0.0435 - accuracy: 0.1116\n",
      "Epoch 14/50\n",
      "57911/57911 [==============================] - 18s 319us/step - loss: 0.0365 - accuracy: 0.1135\n",
      "Epoch 15/50\n",
      "57911/57911 [==============================] - 19s 335us/step - loss: 0.0352 - accuracy: 0.1139\n",
      "Epoch 16/50\n",
      "57911/57911 [==============================] - 25s 436us/step - loss: 0.0384 - accuracy: 0.1132s\n",
      "Epoch 17/50\n",
      "57911/57911 [==============================] - 34s 585us/step - loss: 0.0394 - accuracy: 0.1133\n",
      "Epoch 18/50\n",
      "57911/57911 [==============================] - 29s 502us/step - loss: 0.0256 - accuracy: 0.1148\n",
      "Epoch 19/50\n",
      "57911/57911 [==============================] - 30s 526us/step - loss: 0.0279 - accuracy: 0.1147ETA: 0s - loss: 0.0279 - accuracy: 0. - ETA: 0s - loss: 0.0279 - accuracy: 0.11\n",
      "Epoch 20/50\n",
      "57911/57911 [==============================] - 22s 374us/step - loss: 0.0266 - accuracy: 0.1143\n",
      "Epoch 21/50\n",
      "57911/57911 [==============================] - 17s 301us/step - loss: 0.0288 - accuracy: 0.1137\n",
      "Epoch 22/50\n",
      "57911/57911 [==============================] - 19s 329us/step - loss: 0.0287 - accuracy: 0.1143\n",
      "Epoch 23/50\n",
      "57911/57911 [==============================] - 20s 350us/step - loss: 0.0231 - accuracy: 0.1145\n",
      "Epoch 24/50\n",
      "57911/57911 [==============================] - 19s 326us/step - loss: 0.0225 - accuracy: 0.1151s -\n",
      "Epoch 25/50\n",
      "57911/57911 [==============================] - 22s 388us/step - loss: 0.0203 - accuracy: 0.1151s\n",
      "Epoch 26/50\n",
      "57911/57911 [==============================] - 22s 372us/step - loss: 0.0227 - accuracy: 0.1151\n",
      "Epoch 27/50\n",
      "57911/57911 [==============================] - 22s 379us/step - loss: 0.0206 - accuracy: 0.1147\n",
      "Epoch 28/50\n",
      "57911/57911 [==============================] - 24s 408us/step - loss: 0.0174 - accuracy: 0.1155\n",
      "Epoch 29/50\n",
      "57911/57911 [==============================] - 22s 381us/step - loss: 0.0189 - accuracy: 0.1150\n",
      "Epoch 30/50\n",
      "57911/57911 [==============================] - 22s 384us/step - loss: 0.0213 - accuracy: 0.1146\n",
      "Epoch 31/50\n",
      "57911/57911 [==============================] - 23s 402us/step - loss: 0.0166 - accuracy: 0.1153\n",
      "Epoch 32/50\n",
      "57911/57911 [==============================] - 23s 401us/step - loss: 0.0168 - accuracy: 0.1154\n",
      "Epoch 33/50\n",
      "57911/57911 [==============================] - 22s 377us/step - loss: 0.0184 - accuracy: 0.1152\n",
      "Epoch 34/50\n",
      "57911/57911 [==============================] - 22s 380us/step - loss: 0.0152 - accuracy: 0.1153\n",
      "Epoch 35/50\n",
      "57911/57911 [==============================] - 22s 379us/step - loss: 0.0161 - accuracy: 0.1153\n",
      "Epoch 36/50\n",
      "57911/57911 [==============================] - 23s 394us/step - loss: 0.0167 - accuracy: 0.1154\n",
      "Epoch 37/50\n",
      "57911/57911 [==============================] - 22s 372us/step - loss: 0.0167 - accuracy: 0.1153\n",
      "Epoch 38/50\n",
      "57911/57911 [==============================] - 22s 387us/step - loss: 0.0155 - accuracy: 0.1153\n",
      "Epoch 39/50\n",
      "57911/57911 [==============================] - 23s 390us/step - loss: 0.0150 - accuracy: 0.1155\n",
      "Epoch 40/50\n",
      "57911/57911 [==============================] - 24s 417us/step - loss: 0.0167 - accuracy: 0.1151\n",
      "Epoch 41/50\n",
      "57911/57911 [==============================] - 23s 399us/step - loss: 0.0120 - accuracy: 0.1157s\n",
      "Epoch 42/50\n",
      "57911/57911 [==============================] - 23s 394us/step - loss: 0.0138 - accuracy: 0.1156\n",
      "Epoch 43/50\n",
      "57911/57911 [==============================] - 24s 417us/step - loss: 0.0132 - accuracy: 0.1157\n",
      "Epoch 44/50\n",
      "57911/57911 [==============================] - 23s 396us/step - loss: 0.0141 - accuracy: 0.1155\n",
      "Epoch 45/50\n",
      "57911/57911 [==============================] - 23s 400us/step - loss: 0.0126 - accuracy: 0.1156\n",
      "Epoch 46/50\n",
      "57911/57911 [==============================] - 23s 398us/step - loss: 0.0127 - accuracy: 0.1156\n",
      "Epoch 47/50\n",
      "57911/57911 [==============================] - 13s 223us/step - loss: 0.0127 - accuracy: 0.1155\n",
      "Epoch 48/50\n",
      "57911/57911 [==============================] - 15s 257us/step - loss: 0.0115 - accuracy: 0.1156\n",
      "Epoch 49/50\n",
      "57911/57911 [==============================] - 16s 273us/step - loss: 0.0128 - accuracy: 0.1156\n",
      "Epoch 50/50\n",
      "57911/57911 [==============================] - 15s 255us/step - loss: 0.0126 - accuracy: 0.1156\n"
     ]
    }
   ],
   "source": [
    "#####  \n",
    "\n",
    "# choose a number of time steps\n",
    "n_steps = 11\n",
    "# reshape from [samples, timesteps] into [samples, timesteps, features]\n",
    "n_features = 1\n",
    "X = X.values.reshape((X.shape[0], X.shape[1], n_features))\n",
    "# define model\n",
    "model = Sequential()\n",
    "model.add(LSTM(50, activation='relu', input_shape=(n_steps, n_features)))\n",
    "model.add(Dense(1))\n",
    "model.compile(optimizer='adam', loss='mse',metrics=['accuracy'])\n",
    "# fit model\n",
    "model.fit(X, y_train, epochs=50, verbose=1)\n",
    "model.save_weights(\"model.hdf\")"
   ]
  },
  {
   "cell_type": "code",
   "execution_count": 10,
   "metadata": {},
   "outputs": [],
   "source": [
    "x_test = x_test.values.reshape((x_test.shape[0], x_test.shape[1], n_features))\n",
    "y_predict = model.predict(x_test, verbose=0)\n"
   ]
  },
  {
   "cell_type": "code",
   "execution_count": 11,
   "metadata": {},
   "outputs": [
    {
     "data": {
      "text/plain": [
       "14478"
      ]
     },
     "execution_count": 11,
     "metadata": {},
     "output_type": "execute_result"
    }
   ],
   "source": [
    "len(y_test)"
   ]
  },
  {
   "cell_type": "code",
   "execution_count": 12,
   "metadata": {},
   "outputs": [],
   "source": [
    "#y_test = y_test.values.reshape((y_test.shape[0], y_test.shape[1], n_features))"
   ]
  },
  {
   "cell_type": "code",
   "execution_count": 13,
   "metadata": {},
   "outputs": [],
   "source": [
    "#y_predict = y_predict.reshape((yhat.shape[0], 11, n_features))"
   ]
  },
  {
   "cell_type": "code",
   "execution_count": 14,
   "metadata": {},
   "outputs": [
    {
     "data": {
      "text/plain": [
       "(14478, 1)"
      ]
     },
     "execution_count": 14,
     "metadata": {},
     "output_type": "execute_result"
    }
   ],
   "source": [
    "y_predict.shape"
   ]
  },
  {
   "cell_type": "code",
   "execution_count": 15,
   "metadata": {},
   "outputs": [],
   "source": [
    "#from sklearn.metrics import accuracy_score\n",
    "#print(accuracy_score(y_test,y_pred))\n",
    "#print(model.evaluate(y_test, y_predict, verbose=0))"
   ]
  },
  {
   "cell_type": "code",
   "execution_count": 16,
   "metadata": {},
   "outputs": [
    {
     "data": {
      "text/plain": [
       "pandas.core.frame.DataFrame"
      ]
     },
     "execution_count": 16,
     "metadata": {},
     "output_type": "execute_result"
    }
   ],
   "source": [
    "type(y_test)"
   ]
  },
  {
   "cell_type": "code",
   "execution_count": 17,
   "metadata": {},
   "outputs": [],
   "source": [
    "from sklearn.metrics import *\n",
    "#model=RandomForestClassifier()"
   ]
  },
  {
   "cell_type": "code",
   "execution_count": 18,
   "metadata": {},
   "outputs": [],
   "source": [
    "#model.fit(x_train,y_train)\n",
    "#model.load_weights(\"model.hdf5\")"
   ]
  },
  {
   "cell_type": "code",
   "execution_count": 19,
   "metadata": {},
   "outputs": [
    {
     "data": {
      "text/plain": [
       "99.9868876894556"
      ]
     },
     "execution_count": 19,
     "metadata": {},
     "output_type": "execute_result"
    }
   ],
   "source": [
    "r2_score(y_test,y_predict)*100"
   ]
  },
  {
   "cell_type": "code",
   "execution_count": null,
   "metadata": {},
   "outputs": [],
   "source": []
  }
 ],
 "metadata": {
  "kernelspec": {
   "display_name": "Python 3",
   "language": "python",
   "name": "python3"
  },
  "language_info": {
   "codemirror_mode": {
    "name": "ipython",
    "version": 3
   },
   "file_extension": ".py",
   "mimetype": "text/x-python",
   "name": "python",
   "nbconvert_exporter": "python",
   "pygments_lexer": "ipython3",
   "version": "3.7.4"
  }
 },
 "nbformat": 4,
 "nbformat_minor": 2
}
